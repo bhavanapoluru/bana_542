{
 "cells": [
  {
   "cell_type": "markdown",
   "metadata": {},
   "source": [
    "# Title\n",
    "## SUB Title\n",
    "### Heading\n",
    "#### sub heaading "
   ]
  },
  {
   "cell_type": "markdown",
   "metadata": {},
   "source": [
    "#### changing \n",
    "-outdoor games\n",
    " 1.cirket\n",
    "2.hockey\n",
    " 3.foot ball\n",
    "-indoor games\n",
    "  1.chess\n",
    "2.ludo\n",
    "  3.snake & ladders"
   ]
  },
  {
   "cell_type": "markdown",
   "metadata": {},
   "source": [
    "#### how to place horizontal lines in MD\n",
    "***\n",
    "   1.git\n",
    "   2.nummpy\n",
    "   3.python \n",
    "***    "
   ]
  },
  {
   "cell_type": "markdown",
   "metadata": {},
   "source": [
    "#### how to convert text to ittalic & bold in MD\n",
    "- text coverting\n",
    "- *text converted into ittalic*\n",
    "- **text converted into bold**\n"
   ]
  },
  {
   "cell_type": "markdown",
   "metadata": {},
   "source": [
    "#### how to add hyper links using MD\n",
    "- [GOOGLE](https://www.google.com)\n",
    "- [APSSDC](https://www.apssdc.in)\n"
   ]
  },
  {
   "cell_type": "markdown",
   "metadata": {},
   "source": [
    "#### how to get images uing MD\n",
    "- ![image].https://www.mystudy.icu/wp-content/uploads/2019/12/365073.jpg\n",
    "- ![image]."
   ]
  },
  {
   "cell_type": "markdown",
   "metadata": {},
   "source": [
    "#### how to highlited partiular lines using MD\n",
    "- here writing python program \n",
    "`\n",
    "   a=n(input(' enter a number'))\n",
    "   `\n"
   ]
  },
  {
   "cell_type": "code",
   "execution_count": null,
   "metadata": {},
   "outputs": [],
   "source": []
  }
 ],
 "metadata": {
  "kernelspec": {
   "display_name": "Python 3",
   "language": "python",
   "name": "python3"
  },
  "language_info": {
   "codemirror_mode": {
    "name": "ipython",
    "version": 3
   },
   "file_extension": ".py",
   "mimetype": "text/x-python",
   "name": "python",
   "nbconvert_exporter": "python",
   "pygments_lexer": "ipython3",
   "version": "3.8.5"
  }
 },
 "nbformat": 4,
 "nbformat_minor": 4
}
